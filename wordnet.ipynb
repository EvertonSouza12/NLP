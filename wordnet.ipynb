{
  "nbformat": 4,
  "nbformat_minor": 0,
  "metadata": {
    "colab": {
      "provenance": [],
      "authorship_tag": "ABX9TyORhiiA3dhzbyC8BzH9Wx7v"
    },
    "kernelspec": {
      "name": "python3",
      "display_name": "Python 3"
    },
    "language_info": {
      "name": "python"
    }
  },
  "cells": [
    {
      "cell_type": "code",
      "execution_count": 19,
      "metadata": {
        "colab": {
          "base_uri": "https://localhost:8080/"
        },
        "id": "BcvzigQfn-b_",
        "outputId": "08edd3dc-6cd5-46b4-b8aa-38296167cfcc"
      },
      "outputs": [
        {
          "output_type": "stream",
          "name": "stdout",
          "text": [
            "[Synset('room.n.01'), Synset('room.n.02'), Synset('room.n.03'), Synset('room.n.04'), Synset('board.v.02')]\n",
            "a dwelling that serves as living quarters for one or more families\n",
            "O primeiro sinonimo de happy é happy\n",
            "O segundo sinonimo de happy é felicitous\n",
            "O terceiro sinonimo de happy é glad\n"
          ]
        },
        {
          "output_type": "stream",
          "name": "stderr",
          "text": [
            "[nltk_data] Downloading package wordnet to /root/nltk_data...\n",
            "[nltk_data]   Package wordnet is already up-to-date!\n"
          ]
        }
      ],
      "source": [
        "from nltk.corpus.reader.wordnet import Synset\n",
        "from nltk.corpus import wordnet\n",
        "import nltk\n",
        "nltk.download('wordnet')\n",
        "\n",
        "print(wordnet.synsets('room'))\n",
        "\n",
        "syn_arr = wordnet.synsets('house')\n",
        "print(syn_arr[0].definition())\n",
        "\n",
        "synset = wordnet.synsets('happy')\n",
        "print('O primeiro sinonimo de happy é ' + synset[0].lemmas()[0].name())\n",
        "print('O segundo sinonimo de happy é ' + synset[1].lemmas()[0].name())\n",
        "print('O terceiro sinonimo de happy é ' + synset[2].lemmas()[0].name())"
      ]
    },
    {
      "cell_type": "code",
      "source": [
        "nltk.download('omw-1.4')\n",
        "gato_lemmas = wordnet.lemmas('gato', lang='por')\n",
        "print(gato_lemmas)"
      ],
      "metadata": {
        "colab": {
          "base_uri": "https://localhost:8080/"
        },
        "id": "iydREdvpqvhE",
        "outputId": "ac92587e-917b-45d7-a985-f1a04a8f2646"
      },
      "execution_count": 22,
      "outputs": [
        {
          "output_type": "stream",
          "name": "stderr",
          "text": [
            "[nltk_data] Downloading package omw-1.4 to /root/nltk_data...\n"
          ]
        },
        {
          "output_type": "stream",
          "name": "stdout",
          "text": [
            "[Lemma('cat.n.01.gato'), Lemma('kitty.n.04.gato'), Lemma('tom.n.02.gato'), Lemma('tabby.n.02.gato'), Lemma('big_cat.n.01.gato')]\n"
          ]
        }
      ]
    },
    {
      "cell_type": "code",
      "source": [
        "celular_synset = wordnet.synsets('celular', lang=\"por\")\n",
        "computador_synset = wordnet.synsets('computador', lang=\"por\")\n",
        "\n",
        "print(celular_synset)\n",
        "print(computador_synset)"
      ],
      "metadata": {
        "colab": {
          "base_uri": "https://localhost:8080/"
        },
        "id": "5xCI4arErQvz",
        "outputId": "8aea71d6-38cb-4890-8c01-a731029f39a3"
      },
      "execution_count": 27,
      "outputs": [
        {
          "output_type": "stream",
          "name": "stdout",
          "text": [
            "[Synset('cellular.a.02'), Synset('cellular_telephone.n.01')]\n",
            "[Synset('calculator.n.02'), Synset('computer.n.01'), Synset('calculator.n.01')]\n"
          ]
        }
      ]
    }
  ]
}