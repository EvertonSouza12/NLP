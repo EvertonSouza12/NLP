{
  "nbformat": 4,
  "nbformat_minor": 0,
  "metadata": {
    "colab": {
      "provenance": [],
      "authorship_tag": "ABX9TyMVGXNy4fT04Z4NXJ2CUdad",
      "include_colab_link": true
    },
    "kernelspec": {
      "name": "python3",
      "display_name": "Python 3"
    },
    "language_info": {
      "name": "python"
    }
  },
  "cells": [
    {
      "cell_type": "markdown",
      "metadata": {
        "id": "view-in-github",
        "colab_type": "text"
      },
      "source": [
        "<a href=\"https://colab.research.google.com/github/EvertonSouza12/NLP/blob/main/wordnet.ipynb\" target=\"_parent\"><img src=\"https://colab.research.google.com/assets/colab-badge.svg\" alt=\"Open In Colab\"/></a>"
      ]
    },
    {
      "cell_type": "code",
      "execution_count": 19,
      "metadata": {
        "colab": {
          "base_uri": "https://localhost:8080/"
        },
        "id": "BcvzigQfn-b_",
        "outputId": "08edd3dc-6cd5-46b4-b8aa-38296167cfcc"
      },
      "outputs": [
        {
          "output_type": "stream",
          "name": "stdout",
          "text": [
            "[Synset('room.n.01'), Synset('room.n.02'), Synset('room.n.03'), Synset('room.n.04'), Synset('board.v.02')]\n",
            "a dwelling that serves as living quarters for one or more families\n",
            "O primeiro sinonimo de happy é happy\n",
            "O segundo sinonimo de happy é felicitous\n",
            "O terceiro sinonimo de happy é glad\n"
          ]
        },
        {
          "output_type": "stream",
          "name": "stderr",
          "text": [
            "[nltk_data] Downloading package wordnet to /root/nltk_data...\n",
            "[nltk_data]   Package wordnet is already up-to-date!\n"
          ]
        }
      ],
      "source": [
        "from nltk.corpus.reader.wordnet import Synset\n",
        "from nltk.corpus import wordnet\n",
        "import nltk\n",
        "nltk.download('wordnet')\n",
        "\n",
        "print(wordnet.synsets('room'))\n",
        "\n",
        "syn_arr = wordnet.synsets('house')\n",
        "print(syn_arr[0].definition())\n",
        "\n",
        "synset = wordnet.synsets('happy')\n",
        "print('O primeiro sinonimo de happy é ' + synset[0].lemmas()[0].name())\n",
        "print('O segundo sinonimo de happy é ' + synset[1].lemmas()[0].name())\n",
        "print('O terceiro sinonimo de happy é ' + synset[2].lemmas()[0].name())"
      ]
    },
    {
      "cell_type": "code",
      "source": [
        "nltk.download('omw-1.4')\n",
        "gato_lemmas = wordnet.lemmas('gato', lang='por')\n",
        "print(gato_lemmas)"
      ],
      "metadata": {
        "colab": {
          "base_uri": "https://localhost:8080/"
        },
        "id": "iydREdvpqvhE",
        "outputId": "ac92587e-917b-45d7-a985-f1a04a8f2646"
      },
      "execution_count": 22,
      "outputs": [
        {
          "output_type": "stream",
          "name": "stderr",
          "text": [
            "[nltk_data] Downloading package omw-1.4 to /root/nltk_data...\n"
          ]
        },
        {
          "output_type": "stream",
          "name": "stdout",
          "text": [
            "[Lemma('cat.n.01.gato'), Lemma('kitty.n.04.gato'), Lemma('tom.n.02.gato'), Lemma('tabby.n.02.gato'), Lemma('big_cat.n.01.gato')]\n"
          ]
        }
      ]
    },
    {
      "cell_type": "code",
      "source": [
        "celular_synset = wordnet.synsets('celular', lang=\"por\")\n",
        "computador_synset = wordnet.synsets('computador', lang=\"por\")\n",
        "\n",
        "print(celular_synset)\n",
        "print(computador_synset)"
      ],
      "metadata": {
        "colab": {
          "base_uri": "https://localhost:8080/"
        },
        "id": "5xCI4arErQvz",
        "outputId": "8aea71d6-38cb-4890-8c01-a731029f39a3"
      },
      "execution_count": 27,
      "outputs": [
        {
          "output_type": "stream",
          "name": "stdout",
          "text": [
            "[Synset('cellular.a.02'), Synset('cellular_telephone.n.01')]\n",
            "[Synset('calculator.n.02'), Synset('computer.n.01'), Synset('calculator.n.01')]\n"
          ]
        }
      ]
    },
    {
      "cell_type": "code",
      "source": [
        "from nltk.corpus.reader.wordnet import Synset\n",
        "from nltk.corpus import wordnet\n",
        "import nltk\n",
        "nltk.download('wordnet')\n",
        "\n",
        "\n",
        "def significado(palavra):\n",
        "  palavra = wordnet.synsets(palavra)\n",
        "  print('O significado da palavra é ' + palavra[0].definition())\n",
        "\n",
        "def exemplo(frase):\n",
        "  frase = wordnet.synsets(frase)[0]\n",
        "  print('Um exemplo de uma frase com a palavra ' + frase.name())\n",
        "  print(frase.examples())\n",
        "\n",
        "\n",
        "palavra = input(\"Digite a palavra que deseja o significado em inglês: \")\n",
        "significado(palavra)\n",
        "exemplo(palavra)"
      ],
      "metadata": {
        "colab": {
          "base_uri": "https://localhost:8080/"
        },
        "id": "8oZtgIm-wZ8C",
        "outputId": "b0ef6702-f314-41fc-c7be-9c62c659fcfd"
      },
      "execution_count": 68,
      "outputs": [
        {
          "output_type": "stream",
          "name": "stderr",
          "text": [
            "[nltk_data] Downloading package wordnet to /root/nltk_data...\n",
            "[nltk_data]   Package wordnet is already up-to-date!\n"
          ]
        },
        {
          "output_type": "stream",
          "name": "stdout",
          "text": [
            "Digite a palavra que deseja o significado em inglês: Car\n",
            "O significado da palavra é a motor vehicle with four wheels; usually propelled by an internal combustion engine\n",
            "Um exemplo de uma frase com a palavra car.n.01\n",
            "['he needs a car to get to work']\n"
          ]
        }
      ]
    }
  ]
}