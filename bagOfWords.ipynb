{
  "nbformat": 4,
  "nbformat_minor": 0,
  "metadata": {
    "colab": {
      "provenance": [],
      "authorship_tag": "ABX9TyOUGbRjue4up4e8JG52NKBr"
    },
    "kernelspec": {
      "name": "python3",
      "display_name": "Python 3"
    },
    "language_info": {
      "name": "python"
    }
  },
  "cells": [
    {
      "cell_type": "code",
      "execution_count": 14,
      "metadata": {
        "colab": {
          "base_uri": "https://localhost:8080/"
        },
        "id": "AV2IAXbulPw4",
        "outputId": "096853e3-5dc8-4a8e-e6d6-a1b05c6306fe"
      },
      "outputs": [
        {
          "output_type": "stream",
          "name": "stdout",
          "text": [
            "   ambiente  anteriores  aspectos  caixa  cliente  completamente  \\\n",
            "0      0.14        0.14      0.14   0.14     0.00           0.14   \n",
            "1      0.00        0.00      0.00   0.00     0.22           0.00   \n",
            "2      0.00        0.00      0.00   0.00     0.00           0.00   \n",
            "3      0.00        0.00      0.00   0.00     0.00           0.00   \n",
            "4      0.00        0.00      0.00   0.00     0.00           0.00   \n",
            "5      0.00        0.00      0.00   0.00     0.00           0.00   \n",
            "6      0.00        0.00      0.00   0.00     0.00           0.00   \n",
            "7      0.00        0.00      0.00   0.00     0.00           0.00   \n",
            "\n",
            "   conhecimento  dessa  escopo  estrutura  ...  software  somente  testar  \\\n",
            "0          0.14   0.14    0.14       0.14  ...      0.11     0.11    0.00   \n",
            "1          0.00   0.00    0.00       0.00  ...      0.00     0.19    0.22   \n",
            "2          0.00   0.00    0.00       0.00  ...      0.00     0.00    0.00   \n",
            "3          0.00   0.00    0.00       0.00  ...      0.00     0.00    0.00   \n",
            "4          0.00   0.00    0.00       0.00  ...      0.00     0.00    0.00   \n",
            "5          0.00   0.00    0.00       0.00  ...      0.00     0.00    0.00   \n",
            "6          0.00   0.00    0.00       0.00  ...      0.00     0.00    0.00   \n",
            "7          0.00   0.00    0.00       0.00  ...      0.83     0.00    0.00   \n",
            "\n",
            "   teste  testes  técnica  técnicas  unidade  ver  verificado  \n",
            "0   0.38    0.14     0.14      0.00     0.11  0.0        0.14  \n",
            "1   0.25    0.00     0.00      0.22     0.00  0.0        0.00  \n",
            "2   0.00    0.00     0.00      0.00     0.00  0.0        0.00  \n",
            "3   0.00    0.00     0.00      0.00     0.00  0.0        0.00  \n",
            "4   0.00    0.00     0.00      0.00     0.00  1.0        0.00  \n",
            "5   0.56    0.00     0.00      0.00     0.83  0.0        0.00  \n",
            "6   0.56    0.00     0.00      0.00     0.00  0.0        0.00  \n",
            "7   0.56    0.00     0.00      0.00     0.00  0.0        0.00  \n",
            "\n",
            "[8 rows x 44 columns]\n"
          ]
        },
        {
          "output_type": "stream",
          "name": "stderr",
          "text": [
            "[nltk_data] Downloading package stopwords to /root/nltk_data...\n",
            "[nltk_data]   Package stopwords is already up-to-date!\n"
          ]
        }
      ],
      "source": [
        "#!pip install wikipedia\n",
        "#!pip install nltk\n",
        "#!pip install scikit-learn\n",
        "import wikipedia\n",
        "import nltk\n",
        "from nltk.corpus import stopwords\n",
        "import numpy as np\n",
        "import pandas as pd\n",
        "from sklearn.feature_extraction.text import TfidfVectorizer\n",
        "\n",
        "\n",
        "\n",
        "\n",
        "nltk.download('stopwords')\n",
        "\n",
        "STOPWORDS = stopwords.words(\"portuguese\")+\\\n",
        "        stopwords.words(\"english\")\n",
        "\n",
        "def mostrar_caracteristas(caracteristicas, caracteristicas_nome):\n",
        "  dataframe = pd.DataFrame(data=caracteristicas, columns=caracteristicas_nome)\n",
        "  print(dataframe)\n",
        "\n",
        "if __name__ == '__main__':\n",
        "  tfidf = TfidfVectorizer(stop_words=STOPWORDS)\n",
        "  X = tfidf.fit_transform(textoPagina.splitlines())\n",
        "  mostrar_caracteristas(np.round(X.todense(), 2), tfidf.get_feature_names_out())"
      ]
    }
  ]
}