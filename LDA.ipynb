{
  "nbformat": 4,
  "nbformat_minor": 0,
  "metadata": {
    "colab": {
      "provenance": [],
      "authorship_tag": "ABX9TyOlwh4Ds3v57RujFdwce202"
    },
    "kernelspec": {
      "name": "python3",
      "display_name": "Python 3"
    },
    "language_info": {
      "name": "python"
    }
  },
  "cells": [
    {
      "cell_type": "code",
      "execution_count": 5,
      "metadata": {
        "colab": {
          "base_uri": "https://localhost:8080/"
        },
        "id": "rbUt-pzm7AhM",
        "outputId": "c1820474-5527-473a-f612-05530f01cf61"
      },
      "outputs": [
        {
          "output_type": "stream",
          "name": "stdout",
          "text": [
            "[['human', 'interface', 'computer'], ['survey', 'user', 'computer', 'system', 'response', 'time'], ['eps', 'user', 'interface', 'system'], ['system', 'human', 'system', 'eps'], ['user', 'response', 'time'], ['trees'], ['graph', 'trees'], ['graph', 'minors', 'trees'], ['graph', 'minors', 'survey']]\n"
          ]
        }
      ],
      "source": [
        "document = \"Human machine interface for lab abc computer applications\"\n",
        "\n",
        "text_corpus = [\n",
        "\"Human machine interface for lab abc computer applications\",\"A survey of user opinion of computer system response time\",\n",
        "\"The EPS user interface management system\",\n",
        "\"System and human system engineering testing of EPS\", \"Relation of user perceived response time to error measurement\",\n",
        "\"The generation of random binary unordered trees\",\n",
        "\"The intersection graph of paths in trees\",\n",
        "\"Graph minors IV Widths of trees and well quasi ordering\",\n",
        "\"Graph minors A survey\",\n",
        "]\n",
        "\n",
        "\n",
        "# Crie um conjunto de palavras frequentes\n",
        "stoplist = set('for a of the and to in'.split(' '))\n",
        "# Coloque em minúscula cada documento, divida-o por espaço em branco e filtre as palavras-chave\n",
        "texts = [[word for word in document.lower().split() if\n",
        "word not in stoplist]\n",
        " for document in text_corpus]\n",
        "# Conte frequências de palavras\n",
        "from collections import defaultdict\n",
        "frequency = defaultdict(int)\n",
        "for text in texts:\n",
        " for token in text:\n",
        "  frequency[token] += 1\n",
        "\n",
        "\n",
        "# Mantenha apenas as palavras que aparecerem mais de uma vez\n",
        "processed_corpus = [[token for token in text if\n",
        "frequency[token] > 1] for text in texts]\n",
        "print(processed_corpus)"
      ]
    },
    {
      "cell_type": "code",
      "source": [
        "from gensim import corpora\n",
        "dictionary = corpora.Dictionary(processed_corpus)\n",
        "print(dictionary)\n",
        "print(dictionary.token2id)"
      ],
      "metadata": {
        "colab": {
          "base_uri": "https://localhost:8080/"
        },
        "id": "hneCGR4e76q9",
        "outputId": "ffa765fc-0c25-4f52-a7f2-bb5e1cbe3e2c"
      },
      "execution_count": 8,
      "outputs": [
        {
          "output_type": "stream",
          "name": "stdout",
          "text": [
            "Dictionary<12 unique tokens: ['computer', 'human', 'interface', 'response', 'survey']...>\n",
            "{'computer': 0, 'human': 1, 'interface': 2, 'response': 3, 'survey': 4, 'system': 5, 'time': 6, 'user': 7, 'eps': 8, 'trees': 9, 'graph': 10, 'minors': 11}\n"
          ]
        }
      ]
    },
    {
      "cell_type": "code",
      "source": [
        "bow_corpus = [dictionary.doc2bow(text) for text in\n",
        "processed_corpus]\n",
        "print(bow_corpus)"
      ],
      "metadata": {
        "colab": {
          "base_uri": "https://localhost:8080/"
        },
        "id": "uRGC4O278KKf",
        "outputId": "923a81c5-068e-4785-cafd-3c6ddbf654fb"
      },
      "execution_count": 9,
      "outputs": [
        {
          "output_type": "stream",
          "name": "stdout",
          "text": [
            "[[(0, 1), (1, 1), (2, 1)], [(0, 1), (3, 1), (4, 1), (5, 1), (6, 1), (7, 1)], [(2, 1), (5, 1), (7, 1), (8, 1)], [(1, 1), (5, 2), (8, 1)], [(3, 1), (6, 1), (7, 1)], [(9, 1)], [(9, 1), (10, 1)], [(9, 1), (10, 1), (11, 1)], [(4, 1), (10, 1), (11, 1)]]\n"
          ]
        }
      ]
    },
    {
      "cell_type": "code",
      "source": [
        "from gensim import models\n",
        "# treinar o modelo\n",
        "tfidf = models.TfidfModel(bow_corpus)\n",
        "# transformar a cadeia \"menores de sistema ou system minors\"\n",
        "words = \"system minors\".lower().split()\n",
        "print(tfidf[dictionary.doc2bow(words)])"
      ],
      "metadata": {
        "colab": {
          "base_uri": "https://localhost:8080/"
        },
        "id": "Kr-b5dq68R_e",
        "outputId": "aba2a995-5687-49e8-e2c1-4cdf07eebcbc"
      },
      "execution_count": 10,
      "outputs": [
        {
          "output_type": "stream",
          "name": "stdout",
          "text": [
            "[(5, 0.5898341626740045), (11, 0.8075244024440723)]\n"
          ]
        }
      ]
    },
    {
      "cell_type": "code",
      "source": [
        "from gensim import similarities\n",
        "index = similarities.SparseMatrixSimilarity(tfidf[bow_corpus], num_features=12)"
      ],
      "metadata": {
        "id": "6rqOlpRk8cZH"
      },
      "execution_count": 12,
      "outputs": []
    },
    {
      "cell_type": "code",
      "source": [
        "query_document = 'system engineering'.split()\n",
        "query_bow = dictionary.doc2bow(query_document)\n",
        "sims = index[tfidf[query_bow]]\n",
        "print(list(enumerate(sims)))"
      ],
      "metadata": {
        "colab": {
          "base_uri": "https://localhost:8080/"
        },
        "id": "6iaKykfW8fHg",
        "outputId": "c0988cf1-2ddb-4ed9-b2bf-e3c0f998dea9"
      },
      "execution_count": 14,
      "outputs": [
        {
          "output_type": "stream",
          "name": "stdout",
          "text": [
            "[(0, 0.0), (1, 0.32448703), (2, 0.41707572), (3, 0.7184812), (4, 0.0), (5, 0.0), (6, 0.0), (7, 0.0), (8, 0.0)]\n"
          ]
        }
      ]
    },
    {
      "cell_type": "code",
      "source": [
        "for document_number, score in sorted(enumerate(sims),\n",
        "key=lambda x: x[1], reverse=True):\n",
        " print(document_number, score)"
      ],
      "metadata": {
        "colab": {
          "base_uri": "https://localhost:8080/"
        },
        "id": "XK5ANaEd8n2N",
        "outputId": "a612d6d6-6de8-4f3e-863b-8a4f9e3688df"
      },
      "execution_count": 15,
      "outputs": [
        {
          "output_type": "stream",
          "name": "stdout",
          "text": [
            "3 0.7184812\n",
            "2 0.41707572\n",
            "1 0.32448703\n",
            "0 0.0\n",
            "4 0.0\n",
            "5 0.0\n",
            "6 0.0\n",
            "7 0.0\n",
            "8 0.0\n"
          ]
        }
      ]
    }
  ]
}